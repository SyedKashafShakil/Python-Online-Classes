{
 "cells": [
  {
   "cell_type": "code",
   "execution_count": 5,
   "metadata": {},
   "outputs": [
    {
     "name": "stdout",
     "output_type": "stream",
     "text": [
      "Insert first number : 2\n",
      "Insert operator +,-,*,/,pow : pow\n",
      "Insert second number : 2\n",
      "4.0\n"
     ]
    }
   ],
   "source": [
    "val1 = float(input('Insert first number : '))\n",
    "op = input('Insert operator +,-,*,/,pow : ')\n",
    "val2 = float(input('Insert second number : '))\n",
    "if op == \"+\":\n",
    "    val = val1 + val2\n",
    "    print(val)\n",
    "elif op == \"-\":\n",
    "    val = val1 - val2\n",
    "    print(val)\n",
    "elif op == \"*\":\n",
    "    val = val1 * val2\n",
    "    print(val)\n",
    "elif op == \"/\":\n",
    "    val = val1 / val2\n",
    "    print(val)\n",
    "elif op == \"pow\":\n",
    "    val = pow(val1 , val2)\n",
    "    print(val)\n",
    "else:\n",
    "    print(\"Enter valid numbers or operator\")"
   ]
  },
  {
   "cell_type": "code",
   "execution_count": 10,
   "metadata": {},
   "outputs": [
    {
     "name": "stdout",
     "output_type": "stream",
     "text": [
      "2\n"
     ]
    }
   ],
   "source": [
    "list= ['ali',2,'fahad']\n",
    "for i in list:\n",
    "    if type(i) == int:\n",
    "        print(i)"
   ]
  },
  {
   "cell_type": "code",
   "execution_count": 11,
   "metadata": {},
   "outputs": [
    {
     "name": "stdout",
     "output_type": "stream",
     "text": [
      "{'name': 'syed kashaf shakil', 'age': 20, 'gender': 'male', 'city': 'karachi'}\n"
     ]
    }
   ],
   "source": [
    "dic = {\n",
    "    \"name\":\"syed kashaf shakil\",\n",
    "    \"age\":20,\n",
    "    \"gender\":\"male\"\n",
    "}\n",
    "dic[\"city\"] = \"karachi\"\n",
    "print(dic)"
   ]
  },
  {
   "cell_type": "code",
   "execution_count": 31,
   "metadata": {},
   "outputs": [
    {
     "name": "stdout",
     "output_type": "stream",
     "text": [
      "sum: 30020\n"
     ]
    }
   ],
   "source": [
    "d = {\n",
    "    \"name\":\"syed kashaf shakil\",\n",
    "    \"age\":20,\n",
    "    \"gender\":\"male\",\n",
    "    \"salary\":30000\n",
    "}\n",
    "add=0\n",
    "for i in d.values():\n",
    "    if type(i) == int:\n",
    "        add=add+i\n",
    "print(\"sum: \"+ str(add))"
   ]
  },
  {
   "cell_type": "code",
   "execution_count": 50,
   "metadata": {},
   "outputs": [
    {
     "name": "stdout",
     "output_type": "stream",
     "text": [
      "[20, 30, -20, 60]\n"
     ]
    }
   ],
   "source": [
    "values = [10, 20, 30, 20, 20, 30, 40, 50, -20, 60, 60, -20, -20]\n",
    "size = len(values)\n",
    "repeated= []\n",
    "for i in range(0,size):\n",
    "    k= i+1\n",
    "    for j in range(k,size):\n",
    "        if values[i] == values[j] and values[i] not in repeated:\n",
    "            repeated.append(values[i])\n",
    "print(repeated)"
   ]
  },
  {
   "cell_type": "code",
   "execution_count": 54,
   "metadata": {},
   "outputs": [
    {
     "name": "stdout",
     "output_type": "stream",
     "text": [
      "Insert key in dictionary: location\n",
      "Insert value for the key in dictionary: karachi\n",
      "{'name': 'syed kashaf shakil', 'age': 20, 'gender': 'male', 'salary': 30000, 'location': 'karachi'}\n"
     ]
    }
   ],
   "source": [
    "dic = {\n",
    "    \"name\":\"syed kashaf shakil\",\n",
    "    \"age\":20,\n",
    "    \"gender\":\"male\",\n",
    "    \"salary\":30000\n",
    "}\n",
    "addkey = input(\"Insert key in dictionary: \")\n",
    "addvalue = input(\"Insert value for the key in dictionary: \")\n",
    "for i in dic:\n",
    "    if addkey == i:\n",
    "        print(\"Key already present in dictionary\")\n",
    "    else:\n",
    "        dic[addkey] = addvalue\n",
    "        break;\n",
    "print(dic)\n"
   ]
  }
 ],
 "metadata": {
  "kernelspec": {
   "display_name": "Python 3",
   "language": "python",
   "name": "python3"
  },
  "language_info": {
   "codemirror_mode": {
    "name": "ipython",
    "version": 3
   },
   "file_extension": ".py",
   "mimetype": "text/x-python",
   "name": "python",
   "nbconvert_exporter": "python",
   "pygments_lexer": "ipython3",
   "version": "3.7.0"
  }
 },
 "nbformat": 4,
 "nbformat_minor": 2
}
