{
 "cells": [
  {
   "cell_type": "markdown",
   "metadata": {},
   "source": [
    "# Question 1:Define Object Oriented Programming Language?\n",
    "Programming is based on concepts of object and class. Follows all object oriented concepts including\n",
    "1. Inheritance\n",
    "2. Polymorphism\n",
    "3. Abstraction\n",
    "4. Encapsulation"
   ]
  },
  {
   "cell_type": "markdown",
   "metadata": {},
   "source": [
    "# Question 2:List down the Benefits of OOP?\n",
    "1. Code Reusability\n",
    "2. Reduced maintenance\n",
    "3. Quick & Efficient\n",
    "4. Reliability\n",
    "5. Flexibility\n",
    "6. Real world Modeling"
   ]
  },
  {
   "cell_type": "markdown",
   "metadata": {},
   "source": [
    "# Question 3:Differentiate between function and method?\n",
    "Methods are members of classes.\n",
    "A method can operate on the data that is contained by the corresponding class.\n",
    "Functions are not the member of classes.\n",
    "Function does not deal with Class and its instance concept."
   ]
  },
  {
   "cell_type": "markdown",
   "metadata": {},
   "source": [
    "# Question 4:\n",
    "Define the following terms:\n",
    "1. Class\n",
    "A class defines the properties and behaviors for objects.\n",
    "Class contains collection of methods & data.\n",
    "A class is a blueprint that defines what an object’s data fields and methods will be.\n",
    "2. Object\n",
    "An object represents an entity in the real world that can be distinctly\n",
    "identified. An object has a unique identity, state, and behavior.\n",
    "3. Attribute\n",
    "In Object-oriented programming, classes and objects have attributes. Attributes are data stored inside a class  and represent the state or quality of the class.\n",
    "4. Behavior\n",
    "The behavior of an object is defined by its methods. Every class have it's own behaviour."
   ]
  },
  {
   "cell_type": "code",
   "execution_count": 14,
   "metadata": {},
   "outputs": [
    {
     "name": "stdout",
     "output_type": "stream",
     "text": [
      "Engine started\n",
      "Engine switched off\n",
      "Car Information for kashaf :\n",
      "Honda 2019 black 1800cc\n",
      "price = 3000\n",
      "Engine started\n",
      "Engine switched off\n",
      "Car Information for shakil :\n",
      "Toyota 2012 white 1900cc\n",
      "price = 2000\n"
     ]
    }
   ],
   "source": [
    "class Car:\n",
    "    def __init__(self,name,model,color,engine,owner):\n",
    "        self.name = name\n",
    "        self.model = model\n",
    "        self.color = color\n",
    "        self.engine = engine\n",
    "        self.owner = owner\n",
    "    \n",
    "    def start(self):\n",
    "        print (\"Engine started\")\n",
    "\n",
    "    def stop(self):\n",
    "        print (\"Engine switched off\")\n",
    "        \n",
    "    def getCarDetail(self, owner):\n",
    "        if self.owner == owner: \n",
    "            print (\"Car Information for \"+ owner+ \" :\")\n",
    "            print(self.name+' '+self.model+' '+self.color+' '+self.engine)\n",
    "        else:\n",
    "            return 0\n",
    "        \n",
    "    def price(self,name):\n",
    "        if self.name == name: \n",
    "            if name == 'Honda':\n",
    "                print(\"price = 3000\")\n",
    "            elif name == 'Totota':\n",
    "                print(\"price = 4000\")\n",
    "            else:\n",
    "                print(\"price = 2000\")\n",
    "        else:\n",
    "            return 0\n",
    "    \n",
    "car1 = Car('Honda','2019','black','1800cc','kashaf')\n",
    "car2 = Car('Toyota','2012','white','1900cc','shakil')\n",
    "car3 = Car('Ford','2013','grey','2800cc','ali')\n",
    "car4 = Car('McLaren','2015','black','3800cc','fahad')\n",
    "car5 = Car('Volkswagen','2016','blue','2300cc','syed')\n",
    "car1.start()\n",
    "car1.stop()\n",
    "car1.getCarDetail('kashaf')\n",
    "car1.price('Honda')\n",
    "car2.start()\n",
    "car2.stop()\n",
    "car2.getCarDetail('shakil')\n",
    "car2.price('Toyota')"
   ]
  },
  {
   "cell_type": "code",
   "execution_count": null,
   "metadata": {},
   "outputs": [],
   "source": []
  }
 ],
 "metadata": {
  "kernelspec": {
   "display_name": "Python 3",
   "language": "python",
   "name": "python3"
  },
  "language_info": {
   "codemirror_mode": {
    "name": "ipython",
    "version": 3
   },
   "file_extension": ".py",
   "mimetype": "text/x-python",
   "name": "python",
   "nbconvert_exporter": "python",
   "pygments_lexer": "ipython3",
   "version": "3.7.0"
  }
 },
 "nbformat": 4,
 "nbformat_minor": 2
}
