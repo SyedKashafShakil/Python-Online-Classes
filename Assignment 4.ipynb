{
 "cells": [
  {
   "cell_type": "code",
   "execution_count": 1,
   "metadata": {},
   "outputs": [
    {
     "name": "stdout",
     "output_type": "stream",
     "text": [
      "{'first_name': 'Syed Kashaf', 'last_name': 'Shakil', 'age': 20, 'city': 'Karachi'}\n",
      "{'first_name': 'Syed Kashaf', 'last_name': 'Shakil', 'age': 20, 'city': 'Karachi', 'qualification': 'Under Graduate'}\n",
      "{'first_name': 'Syed Kashaf', 'last_name': 'Shakil', 'age': 20, 'city': 'Karachi'}\n"
     ]
    }
   ],
   "source": [
    "dictionary = {\"first_name\" : \"Syed Kashaf\",\n",
    "             \"last_name\" : \"Shakil\",\n",
    "             \"age\" : 20,\n",
    "             \"city\" : \"Karachi\"}\n",
    "print(dictionary)\n",
    "dictionary[\"qualification\"] = \"Under Graduate\"\n",
    "print(dictionary)\n",
    "del dictionary[\"qualification\"]\n",
    "print(dictionary)"
   ]
  },
  {
   "cell_type": "code",
   "execution_count": 2,
   "metadata": {},
   "outputs": [
    {
     "name": "stdout",
     "output_type": "stream",
     "text": [
      "{'Karachi': {'country': 'Pakistan', 'population': 1200000, 'fact': 'City of lights'}, 'Islamabad': {'country': 'Pakistan', 'population': 1400000, 'fact': 'Capital city of pakistan'}, 'Lahore': {'country': 'Pakistan', 'population': 1100000, 'fact': 'Second Largest City of Pakistan'}}\n"
     ]
    }
   ],
   "source": [
    "cities = {\n",
    "    \"Karachi\":{\n",
    "        \"country\" : \"Pakistan\",\n",
    "        \"population\" : 1200000,\n",
    "        \"fact\" : \"City of lights\"\n",
    "    },\n",
    "    \"Islamabad\":{\n",
    "        \"country\" : \"Pakistan\",\n",
    "        \"population\" : 1400000,\n",
    "        \"fact\" : \"Capital city of pakistan\"\n",
    "    },\n",
    "    \"Lahore\":{\n",
    "        \"country\" : \"Pakistan\",\n",
    "        \"population\" : 1100000,\n",
    "        \"fact\" : \"Second Largest City of Pakistan\"\n",
    "    }\n",
    "}\n",
    "print(cities)"
   ]
  },
  {
   "cell_type": "code",
   "execution_count": 3,
   "metadata": {},
   "outputs": [
    {
     "name": "stdout",
     "output_type": "stream",
     "text": [
      "kashaf Enter your age here : 20\n",
      "Ticket price is $15 \n",
      "shakil Enter your age here : 12\n",
      "Ticket price is $10 \n",
      "ali Enter your age here : 3\n",
      "Ticket price is $10 \n",
      "hussain Enter your age here : 2\n",
      "Ticket is free for you! \n"
     ]
    }
   ],
   "source": [
    "customers = [\"kashaf\",\"shakil\",\"ali\",\"hussain\"]\n",
    "\n",
    "for i in customers:\n",
    "    age = int(input(\"\"+i+\" Enter your age here : \"))\n",
    "    if age < 3:\n",
    "        print(\"Ticket is free for you! \")\n",
    "    elif age >= 3 and age <= 12:\n",
    "        print(\"Ticket price is $10 \")\n",
    "    elif age > 12:\n",
    "        print(\"Ticket price is $15 \")\n",
    "    else:\n",
    "        print(\"You have enter incorrect age \")"
   ]
  },
  {
   "cell_type": "code",
   "execution_count": 4,
   "metadata": {},
   "outputs": [
    {
     "name": "stdout",
     "output_type": "stream",
     "text": [
      "One of my favorite books is Alice in Wonderland.\n"
     ]
    }
   ],
   "source": [
    "def favorite_book(title):\n",
    "    print(\"One of my favorite books is \"+title+\".\")\n",
    "favorite_book(\"Alice in Wonderland\")"
   ]
  },
  {
   "cell_type": "code",
   "execution_count": 19,
   "metadata": {},
   "outputs": [
    {
     "name": "stdout",
     "output_type": "stream",
     "text": [
      "Guess number you have 1 of 3 chance 15\n",
      "The hidden number is greater than your guess\n",
      "Guess number you have 2 of 3 chance 26\n",
      "The hidden number is smaller than your guess\n",
      "Guess number you have 3 of 3 chance 18\n",
      "The hidden number is greater than your guess\n",
      "You lose the hidden number is 23 !\n"
     ]
    }
   ],
   "source": [
    "from random import randint\n",
    "num = randint(0, 30)\n",
    "for i in range(3):\n",
    "    guess = int(input(\"Guess number you have \"+str(i+1)+\" of 3 chance \"))\n",
    "    if guess> num:\n",
    "        print(\"The hidden number is smaller than your guess\")\n",
    "    elif guess< num:\n",
    "        print(\"The hidden number is greater than your guess\")\n",
    "    elif guess == num:\n",
    "        print(\"Cong! Your guess is right\")\n",
    "        break\n",
    "    else:\n",
    "        print(\"Enter valid guess\")\n",
    "print(\"You lose the hidden number is \"+str(num)+\" !\")"
   ]
  },
  {
   "cell_type": "code",
   "execution_count": null,
   "metadata": {},
   "outputs": [],
   "source": []
  }
 ],
 "metadata": {
  "kernelspec": {
   "display_name": "Python 3",
   "language": "python",
   "name": "python3"
  },
  "language_info": {
   "codemirror_mode": {
    "name": "ipython",
    "version": 3
   },
   "file_extension": ".py",
   "mimetype": "text/x-python",
   "name": "python",
   "nbconvert_exporter": "python",
   "pygments_lexer": "ipython3",
   "version": "3.7.0"
  }
 },
 "nbformat": 4,
 "nbformat_minor": 2
}
