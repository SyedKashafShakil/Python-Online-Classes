{
 "cells": [
  {
   "cell_type": "code",
   "execution_count": 3,
   "metadata": {},
   "outputs": [
    {
     "name": "stdout",
     "output_type": "stream",
     "text": [
      "Twinkle, twinkle, little star,How I wonder what you are!Up above the world so high,Like a diamond in the sky.Twinkle, twinkle, little star,How I wonder what you are\n"
     ]
    }
   ],
   "source": [
    "print(\"Twinkle, twinkle, little star,\"+\n",
    "\"How I wonder what you are!\"+\n",
    "\"Up above the world so high,\"+\n",
    "\"Like a diamond in the sky.\"+\n",
    "\n",
    "\"Twinkle, twinkle, little star,\"+\n",
    "\"How I wonder what you are\")"
   ]
  },
  {
   "cell_type": "code",
   "execution_count": 7,
   "metadata": {},
   "outputs": [
    {
     "name": "stdout",
     "output_type": "stream",
     "text": [
      "3.7.0 (default, Jun 28 2018, 08:04:48) [MSC v.1912 64 bit (AMD64)]\n"
     ]
    }
   ],
   "source": [
    "import sys\n",
    "print(sys.version)"
   ]
  },
  {
   "cell_type": "code",
   "execution_count": 41,
   "metadata": {},
   "outputs": [
    {
     "name": "stdout",
     "output_type": "stream",
     "text": [
      "Today's date and time: 2019-11-12 21:56:14.716639\n"
     ]
    }
   ],
   "source": [
    "from datetime import datetime\n",
    "today = datetime.today()\n",
    "print(\"Today's date and time:\", today)"
   ]
  },
  {
   "cell_type": "code",
   "execution_count": 49,
   "metadata": {},
   "outputs": [
    {
     "name": "stdout",
     "output_type": "stream",
     "text": [
      "Enter radius of a circle :2\n",
      "Area of circle having radius2 :12.571428571428571\n"
     ]
    }
   ],
   "source": [
    "radius = int(input(\"Enter radius of a circle :\"))\n",
    "area = (22/7)* (radius*radius)\n",
    "print(\"Area of circle having radius\" + str(radius) +\" :\"+ str(area))"
   ]
  },
  {
   "cell_type": "code",
   "execution_count": 50,
   "metadata": {},
   "outputs": [
    {
     "name": "stdout",
     "output_type": "stream",
     "text": [
      "Enter 1st name :kashaf\n",
      "Enter 2nd name :shakil\n",
      "kashaf shakil\n"
     ]
    }
   ],
   "source": [
    "first_name = input(\"Enter 1st name :\")\n",
    "second_name = input(\"Enter 2nd name :\")\n",
    "print(first_name + \" \" + second_name)"
   ]
  },
  {
   "cell_type": "code",
   "execution_count": 51,
   "metadata": {},
   "outputs": [
    {
     "name": "stdout",
     "output_type": "stream",
     "text": [
      "Enter 1st number :2\n",
      "Enter 2st number :3\n",
      "5\n"
     ]
    }
   ],
   "source": [
    "a = int(input(\"Enter 1st number :\"))\n",
    "b = int(input(\"Enter 2st number :\"))\n",
    "c= a+b\n",
    "print(c)"
   ]
  }
 ],
 "metadata": {
  "kernelspec": {
   "display_name": "Python 3",
   "language": "python",
   "name": "python3"
  },
  "language_info": {
   "codemirror_mode": {
    "name": "ipython",
    "version": 3
   },
   "file_extension": ".py",
   "mimetype": "text/x-python",
   "name": "python",
   "nbconvert_exporter": "python",
   "pygments_lexer": "ipython3",
   "version": "3.7.0"
  }
 },
 "nbformat": 4,
 "nbformat_minor": 2
}
