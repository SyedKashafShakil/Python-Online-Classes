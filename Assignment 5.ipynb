{
 "cells": [
  {
   "cell_type": "code",
   "execution_count": 8,
   "metadata": {},
   "outputs": [
    {
     "name": "stdout",
     "output_type": "stream",
     "text": [
      "Input a number to compute the factiorial : 9\n",
      "362880\n"
     ]
    }
   ],
   "source": [
    "def factorial(n):\n",
    "    if n == 0:\n",
    "        return 1\n",
    "    else:\n",
    "        return n * factorial(n-1)\n",
    "n=int(input(\"Input a number to compute the factiorial : \"))\n",
    "print(factorial(n))"
   ]
  },
  {
   "cell_type": "code",
   "execution_count": 10,
   "metadata": {},
   "outputs": [
    {
     "name": "stdout",
     "output_type": "stream",
     "text": [
      "Original String :  My Name is Syed Kashaf Shakil\n",
      "No. of Upper case characters :  5\n",
      "No. of Lower case Characters :  19\n"
     ]
    }
   ],
   "source": [
    "def string_test(s):\n",
    "    d={\"UPPER_CASE\":0, \"LOWER_CASE\":0}\n",
    "    for c in s:\n",
    "        if c.isupper():\n",
    "            d[\"UPPER_CASE\"]+=1\n",
    "        elif c.islower():\n",
    "            d[\"LOWER_CASE\"]+=1\n",
    "        else:\n",
    "            pass\n",
    "    print (\"Original String : \", s)\n",
    "    print (\"No. of Upper case characters : \", d[\"UPPER_CASE\"])\n",
    "    print (\"No. of Lower case Characters : \", d[\"LOWER_CASE\"])\n",
    "\n",
    "string_test('My Name is Syed Kashaf Shakil')"
   ]
  },
  {
   "cell_type": "code",
   "execution_count": 14,
   "metadata": {},
   "outputs": [
    {
     "name": "stdout",
     "output_type": "stream",
     "text": [
      "Even Number 10\n",
      "Even Number 20\n",
      "Even Number 4\n",
      "Even Number 66\n",
      "Even Number 50\n",
      "Even Number 32\n"
     ]
    }
   ],
   "source": [
    "List = [10, 20, 4, 45, 66, 93, 50, 32] \n",
    "\n",
    "def isEven(userList):\n",
    "    for number in userList:\n",
    "        if number % 2 == 0: \n",
    "            print(\"Even Number {}\".format(number))\n",
    "        \n",
    "isEven(List)"
   ]
  },
  {
   "cell_type": "code",
   "execution_count": 20,
   "metadata": {},
   "outputs": [
    {
     "name": "stdout",
     "output_type": "stream",
     "text": [
      "True\n"
     ]
    }
   ],
   "source": [
    "def isPalindrome(word):\n",
    "    left_pos = 0\n",
    "    right_pos = len(word) - 1\n",
    "    \n",
    "    while right_pos >= left_pos:\n",
    "        if not word[left_pos] == word[right_pos]:\n",
    "            return False\n",
    "        left_pos += 1\n",
    "        right_pos -= 1\n",
    "    return True\n",
    "\n",
    "print(isPalindrome('madam'))"
   ]
  },
  {
   "cell_type": "code",
   "execution_count": 26,
   "metadata": {},
   "outputs": [
    {
     "name": "stdout",
     "output_type": "stream",
     "text": [
      "True\n",
      "False\n"
     ]
    }
   ],
   "source": [
    "def isPrime(num):\n",
    "    if (num==1):\n",
    "        return False\n",
    "    elif (num==2):\n",
    "        return True;\n",
    "    else:\n",
    "        for x in range(2,num):\n",
    "            if(num % x==0):\n",
    "                return False\n",
    "        return True             \n",
    "print(isPrime(11))\n",
    "print(isPrime(9))"
   ]
  },
  {
   "cell_type": "code",
   "execution_count": 31,
   "metadata": {},
   "outputs": [
    {
     "name": "stdout",
     "output_type": "stream",
     "text": [
      "Welcome To Shopping List!\n",
      "Cake: Rs.10\n",
      "Milk: Rs.13\n",
      "Bread: Rs.19\n"
     ]
    }
   ],
   "source": [
    "print(\"Welcome To Shopping List!\")\n",
    "\n",
    "def displayItems(*items):\n",
    "    for item in items:\n",
    "        print(item)\n",
    "    \n",
    "displayItems('Cake: Rs.10','Milk: Rs.13','Bread: Rs.19')"
   ]
  },
  {
   "cell_type": "code",
   "execution_count": null,
   "metadata": {},
   "outputs": [],
   "source": []
  }
 ],
 "metadata": {
  "kernelspec": {
   "display_name": "Python 3",
   "language": "python",
   "name": "python3"
  },
  "language_info": {
   "codemirror_mode": {
    "name": "ipython",
    "version": 3
   },
   "file_extension": ".py",
   "mimetype": "text/x-python",
   "name": "python",
   "nbconvert_exporter": "python",
   "pygments_lexer": "ipython3",
   "version": "3.7.0"
  }
 },
 "nbformat": 4,
 "nbformat_minor": 2
}
